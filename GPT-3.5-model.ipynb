{
 "cells": [
  {
   "cell_type": "markdown",
   "id": "e361f195",
   "metadata": {},
   "source": [
    "<h3>Implementation: Building a simple chatbot using the openai API and set of models</h3>\n",
    "The OpenAI API is powered by a diverse set of models with different capabilities and price points."
   ]
  },
  {
   "cell_type": "code",
   "execution_count": null,
   "id": "97d4daa1",
   "metadata": {},
   "outputs": [],
   "source": []
  },
  {
   "cell_type": "markdown",
   "id": "8cc620b6",
   "metadata": {},
   "source": [
    "<h3>Step 1: Importing the required tools from the langchain framework and the OpenAI</h3>"
   ]
  },
  {
   "cell_type": "code",
   "execution_count": 1,
   "id": "1ebc2867",
   "metadata": {},
   "outputs": [],
   "source": [
    "#Import all necessaries libraries\n",
    "import langchain\n",
    "from openai import OpenAI \n",
    "import os"
   ]
  },
  {
   "cell_type": "markdown",
   "id": "36956417",
   "metadata": {},
   "source": [
    "<h4>the chosen model for this example</h4>\n",
    "<li>Client: is an instance of the class OpenAI. This class lets me interact with my chosen language model.</li>\n",
    "<li>Model: is a the parameter of my function get_completion. I choose \"gpt-3.5-turbo\" for this example model because it is cheaper, the price.</li>"
   ]
  },
  {
   "cell_type": "code",
   "execution_count": 2,
   "id": "96cacf94",
   "metadata": {},
   "outputs": [],
   "source": [
    "# Instantie the os and saving my api key \n",
    "os.environ[\"OPENAI_API_KEY\"]=\"your openai_api_key\""
   ]
  },
  {
   "cell_type": "code",
   "execution_count": 3,
   "id": "7207bf29",
   "metadata": {},
   "outputs": [],
   "source": [
    "# Instantie a class Openai\n",
    "client=OpenAI()"
   ]
  },
  {
   "cell_type": "markdown",
   "id": "25121e9d",
   "metadata": {},
   "source": [
    "<h4>Define the get_completion function</h4>"
   ]
  },
  {
   "cell_type": "code",
   "execution_count": 4,
   "id": "a9b6d4de",
   "metadata": {},
   "outputs": [],
   "source": [
    "#client = openai.OpenAI()\n",
    "def get_completion(prompt, model=\"gpt-3.5-turbo\"):\n",
    "    messages = [{\"role\": \"user\", \"content\": prompt}]\n",
    "    response = client.chat.completions.create(\n",
    "        model=model,\n",
    "        messages=messages,\n",
    "        temperature=0\n",
    "    )\n",
    "    return response.choices[0].message.content"
   ]
  },
  {
   "cell_type": "markdown",
   "id": "bc610396",
   "metadata": {},
   "source": [
    "<h4>Creating the prompt</h4>\n",
    "In the context of large language models (LLMs) like GPT-4, a prompt is the input given to the model to generate a response. This input can be a question, a statement, or any text that sets the context for the model's output. The quality and relevance of the response depend heavily on how the prompt is formulated."
   ]
  },
  {
   "cell_type": "markdown",
   "id": "98ba3dc0",
   "metadata": {},
   "source": [
    "<h3>Part 1: Prompts in Portuguese only</h3>"
   ]
  },
  {
   "cell_type": "code",
   "execution_count": 5,
   "id": "ae2bd6aa",
   "metadata": {},
   "outputs": [
    {
     "name": "stdout",
     "output_type": "stream",
     "text": [
      "No total, Erik tinha 6 doces. Ele comeu 1, deu 1 para um amigo e o pai deu mais 2 doces, então ele ficou com 6 - 1 - 1 + 2 = 6 doces.\n",
      "\n",
      "Se ele deu 2 doces para a amiga dele, então ele ficou com 6 - 2 = 4 doces.\n"
     ]
    }
   ],
   "source": [
    "#Creating the prompt in Portuguese.\n",
    "prompt = f\"\"\"\n",
    "Consegue resolver este Calculo:\n",
    "Meu amigo Erik tinha seis doces, hoje de manhã ele comeu um, e ele deu um para um amigo seu \\\n",
    "O pai do Erik chegou a dar mais 2 doces para Erik/\n",
    "Ele fica com quantos doces /\n",
    "Se ele deu dois para amiga dele/\n",
    "\"\"\"\n",
    "\n",
    "#calling the get_completion function \n",
    "response = get_completion(prompt)\n",
    "print(response) "
   ]
  },
  {
   "cell_type": "code",
   "execution_count": 6,
   "id": "83ac1725",
   "metadata": {},
   "outputs": [
    {
     "name": "stdout",
     "output_type": "stream",
     "text": [
      "Peço desculpas pelo erro no cálculo. Posso tentar corrigir ou esclarecer alguma dúvida específica?\n"
     ]
    }
   ],
   "source": [
    "prompt9=f\"\"\"\n",
    "vc fez calculo errodo\n",
    "\"\"\"\n",
    "response= get_completion(prompt9)\n",
    "print(response)"
   ]
  },
  {
   "cell_type": "code",
   "execution_count": 10,
   "id": "691c7b27",
   "metadata": {},
   "outputs": [
    {
     "name": "stdout",
     "output_type": "stream",
     "text": [
      "No total, Erik tinha 6 doces. Ele comeu um, deu um para um amigo e o pai dele deu mais 2 doces. Portanto, ele ficou com 6 - 1 - 1 + 2 = 6 doces. Se ele deu dois doces para a amiga dele, ele ficou com 6 - 2 = 4 doces.\n"
     ]
    }
   ],
   "source": [
    "#Create a prompt\n",
    "prompt = f\"\"\"\n",
    "consegue resolve esse:\n",
    "Meu amigo Erik tinha seis doces, hoje de manhã ele come um,e ele deu um para um amigo seu \\\n",
    "O pai do Erik chegou a dar mais 2 doces para Erik/\n",
    "Ele fica com quantos doce/\n",
    "Se ele deu dois para amiga dele/\n",
    "\"\"\"\n",
    "\n",
    "#calling the get_completion function \n",
    "response = get_completion(prompt)\n",
    "print(response)"
   ]
  },
  {
   "cell_type": "code",
   "execution_count": 24,
   "id": "75741bff",
   "metadata": {},
   "outputs": [
    {
     "name": "stdout",
     "output_type": "stream",
     "text": [
      "Análise de sentimento: \n",
      "\n",
      "O texto apresentado sugere uma situação que pode gerar sentimentos de preocupação, desconfiança e desconforto. A frequência com que o pai da menina da vizinha está saindo com amigas para jantar todos os dias pode levantar suspeitas de infidelidade ou falta de comprometimento com a família. Essa situação pode causar sentimentos de tristeza, raiva e decepção na menina, na vizinha e em outros familiares que possam estar cientes da situação. Em resumo, o texto sugere um contexto emocional negativo e conflituoso.\n"
     ]
    }
   ],
   "source": [
    "#Create a prompt\n",
    "prompt = f\"\"\"\n",
    "Fazer uma analise de sentimento , vou colocar um texto e vc faz a analise deste texto\n",
    " exemplo: o pai da menina da minha vizinha esta saindo com amigas dele para jantar todos os dias .\n",
    "\"\"\"\n",
    "\n",
    "#calling the get_completion function \n",
    "response = get_completion(prompt)\n",
    "print(response)"
   ]
  },
  {
   "cell_type": "code",
   "execution_count": 27,
   "id": "2be9d8f4",
   "metadata": {},
   "outputs": [
    {
     "name": "stdout",
     "output_type": "stream",
     "text": [
      "Análise de sentimento: Negativo\n",
      "\n",
      "O texto indica uma situação em que o autor saiu com seu pai e ele comprou algo que não tinha necessidade. A expressão \"algo que não tinha necessidade\" sugere que a compra foi desnecessária ou supérflua, o que pode ter causado frustração ou descontentamento no autor. Portanto, a análise de sentimento do texto é negativa.\n"
     ]
    }
   ],
   "source": [
    "#Create a prompt\n",
    "prompt = f\"\"\"\n",
    "Fazer uma analise de sentimento , vou colocar um texto e vc faz a analise deste texto\n",
    " exemplo: ontem eu saiu com meu pai , e ele comprou algo que não tinha necesidade .\n",
    "\"\"\"\n",
    "\n",
    "#calling the get_completion function \n",
    "response = get_completion(prompt)\n",
    "print(response)"
   ]
  },
  {
   "cell_type": "markdown",
   "id": "1cba82f9",
   "metadata": {},
   "source": [
    "<h3>Part 2 : Prompts in english only</h3>"
   ]
  },
  {
   "cell_type": "code",
   "execution_count": 32,
   "id": "6a211078",
   "metadata": {},
   "outputs": [
    {
     "name": "stdout",
     "output_type": "stream",
     "text": [
      "[\n",
      "    {\n",
      "        \"book_id\": 1,\n",
      "        \"title\": \"The Midnight Garden\",\n",
      "        \"author\": \"Elena Rivers\",\n",
      "        \"genre\": \"Fantasy\"\n",
      "    },\n",
      "    {\n",
      "        \"book_id\": 2,\n",
      "        \"title\": \"Echoes of the Past\",\n",
      "        \"author\": \"Nathan Black\",\n",
      "        \"genre\": \"Mystery\"\n",
      "    },\n",
      "    {\n",
      "        \"book_id\": 3,\n",
      "        \"title\": \"Whispers in the Wind\",\n",
      "        \"author\": \"Samantha Reed\",\n",
      "        \"genre\": \"Romance\"\n",
      "    }\n",
      "]\n"
     ]
    }
   ],
   "source": [
    "#Create a prompt\n",
    "prompt = f\"\"\"\n",
    "Generate a list of three made-up book titles along \\ \n",
    "with their authors and genres. \n",
    "Provide them in JSON format with the following keys: \n",
    "book_id, title, author, genre.\n",
    "\"\"\"\n",
    "\n",
    "#calling the get_completion function \n",
    "response = get_completion(prompt)\n",
    "print(response)"
   ]
  },
  {
   "cell_type": "code",
   "execution_count": 39,
   "id": "907fec6d",
   "metadata": {},
   "outputs": [
    {
     "name": "stdout",
     "output_type": "stream",
     "text": [
      "nome dos presidente morte [\n",
      "  {\n",
      "    \"Fullname\": \"Getúlio Vargas\",\n",
      "    \"age\": \"71\",\n",
      "    \"date of death\": \"August 24, 1954\",\n",
      "    \"gender\": \"Male\"\n",
      "  },\n",
      "  {\n",
      "    \"Fullname\": \"Juscelino Kubitschek\",\n",
      "    \"age\": \"73\",\n",
      "    \"date of death\": \"August 22, 1976\",\n",
      "    \"gender\": \"Male\"\n",
      "  },\n",
      "  {\n",
      "    \"Fullname\": \"Tancredo Neves\",\n",
      "    \"age\": \"75\",\n",
      "    \"date of death\": \"April 21, 1985\",\n",
      "    \"gender\": \"Male\"\n",
      "  }\n",
      "]\n"
     ]
    }
   ],
   "source": [
    "#Create a prompt\n",
    "prompt1= f\"\"\"\n",
    "Generate a list of three ex president of Brazil already die\\\n",
    "Provide them in JSON format with the following keys: \n",
    "Fullname, age, date of death, gender.\n",
    "\"\"\"\n",
    "#Calling the get_completion function \n",
    "response= get_completion(prompt1)\n",
    "print(\"nome dos presidente morte:\",response)"
   ]
  },
  {
   "cell_type": "code",
   "execution_count": null,
   "id": "8d2ff761",
   "metadata": {},
   "outputs": [],
   "source": []
  },
  {
   "cell_type": "code",
   "execution_count": 41,
   "id": "dcca374f",
   "metadata": {},
   "outputs": [
    {
     "name": "stdout",
     "output_type": "stream",
     "text": [
      "{\n",
      "  \"AI1\": {\n",
      "    \"Fullname\": \"IBM Watson\",\n",
      "    \"Company\": \"IBM\",\n",
      "    \"Year\": \"2010\"\n",
      "  },\n",
      "  \"AI2\": {\n",
      "    \"Fullname\": \"Google Assistant\",\n",
      "    \"Company\": \"Google\",\n",
      "    \"Year\": \"2016\"\n",
      "  },\n",
      "  \"AI3\": {\n",
      "    \"Fullname\": \"Amazon Alexa\",\n",
      "    \"Company\": \"Amazon\",\n",
      "    \"Year\": \"2014\"\n",
      "  },\n",
      "  \"AI4\": {\n",
      "    \"Fullname\": \"Siri\",\n",
      "    \"Company\": \"Apple\",\n",
      "    \"Year\": \"2011\"\n",
      "  },\n",
      "  \"AI5\": {\n",
      "    \"Fullname\": \"Microsoft Cortana\",\n",
      "    \"Company\": \"Microsoft\",\n",
      "    \"Year\": \"2014\"\n",
      "  }\n",
      "}\n"
     ]
    }
   ],
   "source": [
    "#Create a prompt\n",
    "prompt2= f\"\"\"\n",
    "Generate a list of five artificial intelligence more popular\\\n",
    "Provide them in JSON format with the following keys: \n",
    "Fullname of AI, name of company developed, year.\n",
    "\"\"\"\n",
    "#Calling the get_completion function \n",
    "response= get_completion(prompt2)\n",
    "print(response)"
   ]
  },
  {
   "cell_type": "code",
   "execution_count": null,
   "id": "266eb596",
   "metadata": {},
   "outputs": [],
   "source": []
  }
 ],
 "metadata": {
  "kernelspec": {
   "display_name": "Python 3 (ipykernel)",
   "language": "python",
   "name": "python3"
  },
  "language_info": {
   "codemirror_mode": {
    "name": "ipython",
    "version": 3
   },
   "file_extension": ".py",
   "mimetype": "text/x-python",
   "name": "python",
   "nbconvert_exporter": "python",
   "pygments_lexer": "ipython3",
   "version": "3.10.9"
  }
 },
 "nbformat": 4,
 "nbformat_minor": 5
}
