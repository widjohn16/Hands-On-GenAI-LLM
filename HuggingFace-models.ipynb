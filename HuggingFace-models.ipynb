{
 "cells": [
  {
   "cell_type": "markdown",
   "id": "05b7d156",
   "metadata": {},
   "source": [
    "<h4>Problem Statement</h4>\n",
    "Businesses receive a large volume of customer feedback in the form of reviews, social media posts, and survey responses. Manually analyzing this data is time-consuming and inefficient. An automated sentiment analysis system can provide valuable insights quickly and accurately."
   ]
  },
  {
   "cell_type": "code",
   "execution_count": 22,
   "id": "7d2f6d42",
   "metadata": {},
   "outputs": [],
   "source": [
    "#Install the required framework\n",
    "!pip install -qq tensorflow\n",
    "!pip install -qq tf-keras"
   ]
  },
  {
   "cell_type": "markdown",
   "id": "0e09c021",
   "metadata": {},
   "source": [
    "<h4>Transformer models</h4>\n",
    "For this guide I am using pipeline model."
   ]
  },
  {
   "cell_type": "code",
   "execution_count": 43,
   "id": "6676281c",
   "metadata": {},
   "outputs": [],
   "source": [
    "import warnings\n",
    "warnings.filterwarnings\n",
    "#Import all required models\n",
    "from transformers import pipeline\n",
    "from transformers import AutoModelForSeq2SeqLM\n",
    "from transformers import AutoTokenizer"
   ]
  },
  {
   "cell_type": "markdown",
   "id": "553c1cd3",
   "metadata": {},
   "source": [
    "<h4>Create an instance of pipeline class</h4>\n",
    "Let's create an instance of pipeline() and specifying the task it is going to use it for. In this guide,the pipeline() is using for sentiment analysis as an example:"
   ]
  },
  {
   "cell_type": "code",
   "execution_count": 44,
   "id": "d8575fc2",
   "metadata": {},
   "outputs": [
    {
     "name": "stderr",
     "output_type": "stream",
     "text": [
      "No model was supplied, defaulted to distilbert/distilbert-base-uncased-finetuned-sst-2-english and revision af0f99b (https://huggingface.co/distilbert/distilbert-base-uncased-finetuned-sst-2-english).\n",
      "Using a pipeline without specifying a model name and revision in production is not recommended.\n"
     ]
    }
   ],
   "source": [
    "#instantie the pipeline class\n",
    "classifier= pipeline(\"sentiment-analysis\")"
   ]
  },
  {
   "cell_type": "code",
   "execution_count": 45,
   "id": "77e8aa05",
   "metadata": {},
   "outputs": [
    {
     "data": {
      "text/plain": [
       "[{'label': 'POSITIVE', 'score': 0.9998801946640015}]"
      ]
     },
     "execution_count": 45,
     "metadata": {},
     "output_type": "execute_result"
    }
   ],
   "source": [
    "#Insert the text.\n",
    "classifier(\"I am happy\")\n"
   ]
  },
  {
   "cell_type": "code",
   "execution_count": 46,
   "id": "57767404",
   "metadata": {},
   "outputs": [
    {
     "name": "stdout",
     "output_type": "stream",
     "text": [
      "label: POSITIVE, with score: 0.9998\n",
      "label: NEGATIVE, with score: 0.5309\n",
      "label: POSITIVE, with score: 0.927\n",
      "label: POSITIVE, with score: 0.9998\n",
      "label: NEGATIVE, with score: 0.9972\n"
     ]
    }
   ],
   "source": [
    "#Insert some texts.\n",
    "results = classifier([\"We are very happy to show you the 🤗 Transformers library.\",\\\n",
    "                      \"We hope you don't hate it.\",\"My girlfriend gave me \",\\\n",
    "                      \"I like my teacher\",\"I do not like this product\"])\n",
    "# create a loop for \n",
    "for result in results:\n",
    "    print(f\"label: {result['label']}, with score: {round(result['score'], 4)}\")"
   ]
  },
  {
   "cell_type": "code",
   "execution_count": null,
   "id": "e47449a7",
   "metadata": {},
   "outputs": [],
   "source": []
  },
  {
   "cell_type": "code",
   "execution_count": null,
   "id": "4058f02b",
   "metadata": {},
   "outputs": [],
   "source": []
  },
  {
   "cell_type": "code",
   "execution_count": null,
   "id": "082537ee",
   "metadata": {},
   "outputs": [],
   "source": []
  },
  {
   "cell_type": "code",
   "execution_count": null,
   "id": "3ce76c4e",
   "metadata": {},
   "outputs": [],
   "source": []
  },
  {
   "cell_type": "code",
   "execution_count": null,
   "id": "d4156e67",
   "metadata": {},
   "outputs": [],
   "source": []
  }
 ],
 "metadata": {
  "kernelspec": {
   "display_name": "Python 3 (ipykernel)",
   "language": "python",
   "name": "python3"
  },
  "language_info": {
   "codemirror_mode": {
    "name": "ipython",
    "version": 3
   },
   "file_extension": ".py",
   "mimetype": "text/x-python",
   "name": "python",
   "nbconvert_exporter": "python",
   "pygments_lexer": "ipython3",
   "version": "3.10.9"
  }
 },
 "nbformat": 4,
 "nbformat_minor": 5
}
