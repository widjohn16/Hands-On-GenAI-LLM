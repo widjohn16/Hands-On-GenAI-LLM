{
  "nbformat": 4,
  "nbformat_minor": 0,
  "metadata": {
    "colab": {
      "provenance": []
    },
    "kernelspec": {
      "name": "python3",
      "display_name": "Python 3"
    },
    "language_info": {
      "name": "python"
    }
  },
  "cells": [
    {
      "cell_type": "markdown",
      "source": [
        "Building consational Chatbot"
      ],
      "metadata": {
        "id": "Ecu8gz9_DSpX"
      }
    },
    {
      "cell_type": "markdown",
      "source": [
        "###Mini project:\n",
        "\n",
        " Developing a Conversational Chatbot to Distinguish Between Negative and Positive Sentiment Texts\n",
        "\n",
        "In this project, the user writes a prompt, and the chatbot determines whether the text expresses negative or positive sentiment. The goal is to create an emotionally aware chatbot that tailors its responses based on user emotions"
      ],
      "metadata": {
        "id": "aiwCVOwVTa5V"
      }
    },
    {
      "cell_type": "markdown",
      "source": [
        "### Install all necssaries libraries"
      ],
      "metadata": {
        "id": "yM0oRubUVNnU"
      }
    },
    {
      "cell_type": "code",
      "execution_count": null,
      "metadata": {
        "id": "ZynbD4O6C5Vl"
      },
      "outputs": [],
      "source": [
        "#!pip install -qq tensorflow\n",
        "#!pip install -qq transformers\n",
        "#!pip install - qq sentencepiece"
      ]
    },
    {
      "cell_type": "markdown",
      "source": [
        "Import all required libraries to build the Conversational Chatbot."
      ],
      "metadata": {
        "id": "_Zhn5i0FHh3n"
      }
    },
    {
      "cell_type": "code",
      "source": [
        "#Import all required libraries\n",
        "import sentencepiece\n",
        "from transformers import AutoTokenizer, AutoModelForSeq2SeqLM, pipeline"
      ],
      "metadata": {
        "id": "F9F500HOC61t"
      },
      "execution_count": null,
      "outputs": []
    },
    {
      "cell_type": "code",
      "source": [
        "#Instantie the classe pipeline\n",
        "classifier = pipeline(\"sentiment-analysis\")\n",
        "answer=classifier(\"I love you\")\n",
        "print(answer)"
      ],
      "metadata": {
        "colab": {
          "base_uri": "https://localhost:8080/"
        },
        "id": "gTepmdK3IKOn",
        "outputId": "551bc5c8-ce81-4176-dd25-762aafb86bca"
      },
      "execution_count": null,
      "outputs": [
        {
          "output_type": "stream",
          "name": "stderr",
          "text": [
            "No model was supplied, defaulted to distilbert/distilbert-base-uncased-finetuned-sst-2-english and revision af0f99b (https://huggingface.co/distilbert/distilbert-base-uncased-finetuned-sst-2-english).\n",
            "Using a pipeline without specifying a model name and revision in production is not recommended.\n"
          ]
        },
        {
          "output_type": "stream",
          "name": "stdout",
          "text": [
            "[{'label': 'POSITIVE', 'score': 0.9998656511306763}]\n"
          ]
        }
      ]
    },
    {
      "cell_type": "code",
      "source": [
        "#print the answer\n",
        "print(\"It's\",answer[0]['label'],'sentiment')"
      ],
      "metadata": {
        "colab": {
          "base_uri": "https://localhost:8080/"
        },
        "id": "vXee3nOGWpo_",
        "outputId": "feadb2d5-3433-4908-def5-974b145c9221"
      },
      "execution_count": null,
      "outputs": [
        {
          "output_type": "stream",
          "name": "stdout",
          "text": [
            "It's POSITIVE sentiment\n"
          ]
        }
      ]
    }
  ]
}